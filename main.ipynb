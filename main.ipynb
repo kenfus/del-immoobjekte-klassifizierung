{
 "metadata": {
  "language_info": {
   "codemirror_mode": {
    "name": "ipython",
    "version": 3
   },
   "file_extension": ".py",
   "mimetype": "text/x-python",
   "name": "python",
   "nbconvert_exporter": "python",
   "pygments_lexer": "ipython3",
   "version": 3
  },
  "orig_nbformat": 2
 },
 "nbformat": 4,
 "nbformat_minor": 2,
 "cells": [
  {
   "cell_type": "code",
   "execution_count": null,
   "metadata": {},
   "outputs": [],
   "source": [
    "import pandas as pd\n",
    "from torch.utils.data import Dataset\n",
    "import torch\n",
    "import torch.nn as nndsf\n"
   ]
  },
  {
   "cell_type": "code",
   "execution_count": null,
   "metadata": {},
   "outputs": [],
   "source": [
    "\n",
    "if torch.cuda.is_available():\n",
    "  device = torch.device(\"cuda:0\")\n",
    "  print(\"Cuda Device Available\")\n",
    "  print(\"Name of the Cuda Device: \", torch.cuda.get_device_name())\n",
    "  print(\"GPU Computational Capablity: \", torch.cuda.get_device_capability())"
   ]
  },
  {
   "cell_type": "code",
   "execution_count": null,
   "metadata": {},
   "outputs": [],
   "source": [
    "import torch.nn as nn\n",
    "import torch.nn.functional as F\n",
    "\n",
    "# Parameter for the model\n",
    "input_dim = X.shape[1]\n",
    "output_dim = 3\n",
    "nr_of_neuros = calc_nr_neuros(X, output_dim, 2)\n",
    "\n",
    "\n",
    "class Model(nn.Module):\n",
    "\n",
    "    def __init__(self):\n",
    "        super().__init__()\n",
    "\n",
    "        self.fc1 = nn.Linear(input_dim, nr_of_neuros)\n",
    "        self.b1 = nn.BatchNorm1d(nr_of_neuros)\n",
    "        self.d1 = nn.Dropout(0.1)\n",
    "        self.fc2 = nn.Linear(nr_of_neuros, nr_of_neuros)\n",
    "        self.b2 = nn.BatchNorm1d(nr_of_neuros)\n",
    "        self.d2 = nn.Dropout(0.1)\n",
    "        self.fc3 = nn.Linear(nr_of_neuros, nr_of_neuros)\n",
    "        self.b3 = nn.BatchNorm1d(nr_of_neuros)\n",
    "        self.d3 = nn.Dropout(0.1)\n",
    "        self.fc4 = nn.Linear(nr_of_neuros, nr_of_neuros)\n",
    "        self.b4 = nn.BatchNorm1d(nr_of_neuros)\n",
    "        self.d4 = nn.Dropout(0.1)\n",
    "        self.fc5 = nn.Linear(nr_of_neuros, nr_of_neuros)\n",
    "        self.b5 = nn.BatchNorm1d(nr_of_neuros)\n",
    "        self.d5 = nn.Dropout(0.1)\n",
    "        self.fc6 = nn.Linear(nr_of_neuros, output_dim)\n",
    "\n",
    "    def forward(self,x):\n",
    "        x = F.leaky_relu(self.fc1(x))\n",
    "        x = self.b1(x)\n",
    "        x = self.d1(x)\n",
    "        x = F.leaky_relu(self.fc2(x))\n",
    "        x = self.b2(x)\n",
    "        x = self.d2(x)\n",
    "        x = F.leaky_relu(self.fc3(x))\n",
    "        x = self.b3(x)\n",
    "        x = self.d3(x)\n",
    "        x = F.leaky_relu(self.fc4(x))\n",
    "        x = self.b4(x)\n",
    "        x = self.d4(x)\n",
    "        x = F.leaky_relu(self.fc5(x))\n",
    "        x = self.b5(x)\n",
    "        x = self.d5(x)\n",
    "        x = F.softmax(self.fc6(x))\n",
    "\n",
    "        return x\n",
    "\n",
    "model = Model()\n",
    "use_cuda = torch.cuda.is_available()\n",
    "device = torch.device(\"cuda\" if use_cuda else \"cpu\")\n",
    "model.to(device)"
   ]
  }
 ]
}